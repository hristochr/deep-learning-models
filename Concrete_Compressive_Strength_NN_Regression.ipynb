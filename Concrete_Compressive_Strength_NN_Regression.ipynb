{
  "nbformat": 4,
  "nbformat_minor": 0,
  "metadata": {
    "colab": {
      "name": "Concrete Compressive Strength NN Regression.ipynb",
      "provenance": []
    },
    "kernelspec": {
      "name": "python3",
      "display_name": "Python 3"
    }
  },
  "cells": [
    {
      "cell_type": "markdown",
      "metadata": {
        "id": "gBEAK2fLil97",
        "colab_type": "text"
      },
      "source": [
        "Concrete compressive strength for general construction varies from 15 MPa (2200 psi) to 30 MPa (4400 psi) and higher in commercial and industrial structures.\n",
        "\n",
        "[Source](https://theconstructor.org/concrete/compressive-strength-concrete-cube-test/1561/)"
      ]
    },
    {
      "cell_type": "code",
      "metadata": {
        "id": "XSYPy-_VooYk",
        "colab_type": "code",
        "outputId": "c33f5ef5-d1e1-448a-bf4f-0bdc8a5e454e",
        "colab": {
          "base_uri": "https://localhost:8080/",
          "height": 341
        }
      },
      "source": [
        "import urllib.request\n",
        "import json\n",
        "\n",
        "data = {\n",
        "        \"Inputs\": {\n",
        "                \"input1\":\n",
        "                [\n",
        "                    {\n",
        "                            'Cement (component 1)(kg in a m^3 mixture)': \"139.6\",   \n",
        "                            'Blast Furnace Slag (component 2)(kg in a m^3 mixture)': \"209.4\",   \n",
        "                            'Fly Ash (component 3)(kg in a m^3 mixture)': \"0\",   \n",
        "                            'Water  (component 4)(kg in a m^3 mixture)': \"192\",   \n",
        "                            'Superplasticizer (component 5)(kg in a m^3 mixture)': \"0\",   \n",
        "                            'Coarse Aggregate  (component 6)(kg in a m^3 mixture)': \"1047\",   \n",
        "                            'Fine Aggregate (component 7)(kg in a m^3 mixture)': \"806.9\",   \n",
        "                            'Age (day)': \"5\",   #Regressors\n",
        "                            'Concrete compressive strength(MPa, megapascals)': \"\",   #Regressand \n",
        "                    }\n",
        "                ],\n",
        "        },\n",
        "    \"GlobalParameters\":  {\n",
        "    }\n",
        "}\n",
        "\n",
        "body = str.encode(json.dumps(data))\n",
        "\n",
        "url = 'https://ussouthcentral.services.azureml.net/workspaces/7735122755b944daa97da6df4d423339/services/717165a5dd954ac59ed6b2dd7c3c23f1/execute?api-version=2.0&format=swagger'\n",
        "api_key = 'J3G8ftuLxoRgVmBqqicTI5oU+BRrlZTukCctBamRF3WUHCr03bgYFc9WH3T+Ql/G4+2LW/IwFmfYliRUEa9SnQ==' # Replace this with the API key for the web service\n",
        "headers = {'Content-Type':'application/json', 'Authorization':('Bearer '+ api_key)}\n",
        "\n",
        "req = urllib.request.Request(url, body, headers)\n",
        "\n",
        "try:\n",
        "    response = urllib.request.urlopen(req)\n",
        "    result = response.read()\n",
        "    json_object = json.loads(result)\n",
        "    json_formatted_str = json.dumps(json_object, indent=2)\n",
        "    print(json_formatted_str)\n",
        "except urllib.error.HTTPError as error:\n",
        "    print(\"The request failed with status code: \" + str(error.code))\n",
        "    # Print the headers - they include the requert ID and the timestamp, which are useful for debugging the failure\n",
        "    print(error.info())\n",
        "    print(json.loads(error.read().decode(\"utf8\", 'ignore')))"
      ],
      "execution_count": 0,
      "outputs": [
        {
          "output_type": "stream",
          "text": [
            "{\n",
            "   \"Results\": {\n",
            "      \"output1\": [\n",
            "         {\n",
            "            \"Cement (component 1)(kg in a m^3 mixture)\": \"139.6\",\n",
            "            \"Blast Furnace Slag (component 2)(kg in a m^3 mixture)\": \"209.4\",\n",
            "            \"Fly Ash (component 3)(kg in a m^3 mixture)\": \"0\",\n",
            "            \"Water  (component 4)(kg in a m^3 mixture)\": \"192\",\n",
            "            \"Superplasticizer (component 5)(kg in a m^3 mixture)\": \"0\",\n",
            "            \"Coarse Aggregate  (component 6)(kg in a m^3 mixture)\": \"1047\",\n",
            "            \"Fine Aggregate (component 7)(kg in a m^3 mixture)\": \"806.9\",\n",
            "            \"Age (day)\": \"5\",\n",
            "            \"Concrete compressive strength(MPa, megapascals)\": null,\n",
            "            \"Scored Labels\": \"12.0739097595215\"\n",
            "         }\n",
            "      ]\n",
            "   }\n",
            "}\n"
          ],
          "name": "stdout"
        }
      ]
    }
  ]
}